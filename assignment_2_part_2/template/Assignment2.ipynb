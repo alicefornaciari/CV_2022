{
 "cells": [
  {
   "cell_type": "markdown",
   "metadata": {},
   "source": [
    "# Assignment 2 - Epipolar Geometry and 3D Reconstruction \n",
    "\n",
    "First name:\n",
    "<br>\n",
    "Last name: \n",
    "<br>\n",
    "Matriculation number:"
   ]
  },
  {
   "cell_type": "code",
   "execution_count": 2,
   "metadata": {},
   "outputs": [
    {
     "name": "stdout",
     "output_type": "stream",
     "text": [
      "The autoreload extension is already loaded. To reload it, use:\n",
      "  %reload_ext autoreload\n"
     ]
    },
    {
     "ename": "AttributeError",
     "evalue": "module 'collections' has no attribute 'Mapping'",
     "output_type": "error",
     "traceback": [
      "\u001b[0;31m---------------------------------------------------------------------------\u001b[0m",
      "\u001b[0;31mAttributeError\u001b[0m                            Traceback (most recent call last)",
      "\u001b[1;32m/Users/alicefornaciari/Desktop/CV_2022/assignment_2_part_2/template/Assignment2.ipynb Cell 2\u001b[0m in \u001b[0;36m<cell line: 8>\u001b[0;34m()\u001b[0m\n\u001b[1;32m      <a href='vscode-notebook-cell:/Users/alicefornaciari/Desktop/CV_2022/assignment_2_part_2/template/Assignment2.ipynb#W1sZmlsZQ%3D%3D?line=5'>6</a>\u001b[0m \u001b[39mimport\u001b[39;00m \u001b[39mnumpy\u001b[39;00m \u001b[39mas\u001b[39;00m \u001b[39mnp\u001b[39;00m\n\u001b[1;32m      <a href='vscode-notebook-cell:/Users/alicefornaciari/Desktop/CV_2022/assignment_2_part_2/template/Assignment2.ipynb#W1sZmlsZQ%3D%3D?line=6'>7</a>\u001b[0m \u001b[39mfrom\u001b[39;00m \u001b[39mPIL\u001b[39;00m \u001b[39mimport\u001b[39;00m Image\n\u001b[0;32m----> <a href='vscode-notebook-cell:/Users/alicefornaciari/Desktop/CV_2022/assignment_2_part_2/template/Assignment2.ipynb#W1sZmlsZQ%3D%3D?line=7'>8</a>\u001b[0m \u001b[39mimport\u001b[39;00m \u001b[39mipyvolume\u001b[39;00m \u001b[39mas\u001b[39;00m \u001b[39mipv\u001b[39;00m\n\u001b[1;32m      <a href='vscode-notebook-cell:/Users/alicefornaciari/Desktop/CV_2022/assignment_2_part_2/template/Assignment2.ipynb#W1sZmlsZQ%3D%3D?line=8'>9</a>\u001b[0m \u001b[39mimport\u001b[39;00m \u001b[39mmatplotlib\u001b[39;00m\u001b[39m.\u001b[39;00m\u001b[39mpyplot\u001b[39;00m \u001b[39mas\u001b[39;00m \u001b[39mplt\u001b[39;00m\n\u001b[1;32m     <a href='vscode-notebook-cell:/Users/alicefornaciari/Desktop/CV_2022/assignment_2_part_2/template/Assignment2.ipynb#W1sZmlsZQ%3D%3D?line=10'>11</a>\u001b[0m \u001b[39mfrom\u001b[39;00m \u001b[39mutils\u001b[39;00m \u001b[39mimport\u001b[39;00m decompose_essential_matrix, infer_3d, ransac\n",
      "File \u001b[0;32m~/.conda/envs/MIALab_personal/lib/python3.10/site-packages/ipyvolume/__init__.py:4\u001b[0m, in \u001b[0;36m<module>\u001b[0;34m\u001b[0m\n\u001b[1;32m      1\u001b[0m \u001b[39mfrom\u001b[39;00m \u001b[39m__future__\u001b[39;00m \u001b[39mimport\u001b[39;00m absolute_import\n\u001b[1;32m      2\u001b[0m \u001b[39mfrom\u001b[39;00m \u001b[39m.\u001b[39;00m\u001b[39m_version\u001b[39;00m \u001b[39mimport\u001b[39;00m __version__\n\u001b[0;32m----> 4\u001b[0m \u001b[39mfrom\u001b[39;00m \u001b[39m.\u001b[39;00m \u001b[39mimport\u001b[39;00m styles\n\u001b[1;32m      5\u001b[0m \u001b[39mfrom\u001b[39;00m \u001b[39m.\u001b[39;00m\u001b[39mwidgets\u001b[39;00m \u001b[39mimport\u001b[39;00m \u001b[39m*\u001b[39m\n\u001b[1;32m      6\u001b[0m \u001b[39mfrom\u001b[39;00m \u001b[39m.\u001b[39;00m\u001b[39mtransferfunction\u001b[39;00m \u001b[39mimport\u001b[39;00m \u001b[39m*\u001b[39m\n",
      "File \u001b[0;32m~/.conda/envs/MIALab_personal/lib/python3.10/site-packages/ipyvolume/styles.py:56\u001b[0m, in \u001b[0;36m<module>\u001b[0;34m\u001b[0m\n\u001b[1;32m     47\u001b[0m light \u001b[39m=\u001b[39m create(\u001b[39m\"\u001b[39m\u001b[39mlight\u001b[39m\u001b[39m\"\u001b[39m, \\\n\u001b[1;32m     48\u001b[0m {\n\u001b[1;32m     49\u001b[0m     \u001b[39m'\u001b[39m\u001b[39mbackground-color\u001b[39m\u001b[39m'\u001b[39m: \u001b[39m'\u001b[39m\u001b[39mwhite\u001b[39m\u001b[39m'\u001b[39m,\n\u001b[0;32m   (...)\u001b[0m\n\u001b[1;32m     52\u001b[0m     }\n\u001b[1;32m     53\u001b[0m })\n\u001b[1;32m     55\u001b[0m default \u001b[39m=\u001b[39m {}\n\u001b[0;32m---> 56\u001b[0m utils\u001b[39m.\u001b[39;49mdict_deep_update(default, _defaults)\n\u001b[1;32m     57\u001b[0m utils\u001b[39m.\u001b[39mdict_deep_update(default, light)\n\u001b[1;32m     59\u001b[0m dark \u001b[39m=\u001b[39m create(\u001b[39m\"\u001b[39m\u001b[39mdark\u001b[39m\u001b[39m\"\u001b[39m, \\\n\u001b[1;32m     60\u001b[0m {\n\u001b[1;32m     61\u001b[0m     \u001b[39m'\u001b[39m\u001b[39mbackground-color\u001b[39m\u001b[39m'\u001b[39m: \u001b[39m'\u001b[39m\u001b[39m#000001\u001b[39m\u001b[39m'\u001b[39m, \u001b[39m# for some reason we cannot set it to black!?!\u001b[39;00m\n\u001b[0;32m   (...)\u001b[0m\n\u001b[1;32m     70\u001b[0m     }\n\u001b[1;32m     71\u001b[0m })\n",
      "File \u001b[0;32m~/.conda/envs/MIALab_personal/lib/python3.10/site-packages/ipyvolume/utils.py:19\u001b[0m, in \u001b[0;36mdict_deep_update\u001b[0;34m(d, u)\u001b[0m\n\u001b[1;32m     17\u001b[0m \u001b[39mdef\u001b[39;00m \u001b[39mdict_deep_update\u001b[39m(d, u):\n\u001b[1;32m     18\u001b[0m     \u001b[39mfor\u001b[39;00m k, v \u001b[39min\u001b[39;00m u\u001b[39m.\u001b[39mitems():\n\u001b[0;32m---> 19\u001b[0m         \u001b[39mif\u001b[39;00m \u001b[39misinstance\u001b[39m(v, collections\u001b[39m.\u001b[39;49mMapping):\n\u001b[1;32m     20\u001b[0m             r \u001b[39m=\u001b[39m dict_deep_update(d\u001b[39m.\u001b[39mget(k, {}), v)\n\u001b[1;32m     21\u001b[0m             d[k] \u001b[39m=\u001b[39m r\n",
      "\u001b[0;31mAttributeError\u001b[0m: module 'collections' has no attribute 'Mapping'"
     ]
    }
   ],
   "source": [
    "%load_ext autoreload\n",
    "%autoreload 2\n",
    "%matplotlib inline\n",
    "import os\n",
    "\n",
    "import numpy as np\n",
    "from PIL import Image\n",
    "import ipyvolume as ipv\n",
    "import matplotlib.pyplot as plt\n",
    "\n",
    "from utils import decompose_essential_matrix, infer_3d, ransac"
   ]
  },
  {
   "cell_type": "markdown",
   "metadata": {},
   "source": [
    "## Part II: 3D Model Reconstruction"
   ]
  },
  {
   "cell_type": "markdown",
   "metadata": {},
   "source": [
    "### Load matched points\n",
    "We provide a synthetic pair of images where noisy correspondences are known."
   ]
  },
  {
   "cell_type": "code",
   "execution_count": null,
   "metadata": {},
   "outputs": [],
   "source": [
    "left = np.array(Image.open(os.path.join('MatchedPoints','left.jpg')), dtype=np.float32).mean(2)/255\n",
    "right = np.array(Image.open(os.path.join('MatchedPoints','right.jpg')), dtype=np.float32).mean(2)/255"
   ]
  },
  {
   "cell_type": "code",
   "execution_count": null,
   "metadata": {},
   "outputs": [],
   "source": [
    "plt.subplot(1,2,1)\n",
    "plt.imshow(left, cmap='gray')\n",
    "plt.title('Left image')\n",
    "plt.subplot(1,2,2)\n",
    "plt.imshow(right, cmap='gray')\n",
    "plt.title('Right image')"
   ]
  },
  {
   "cell_type": "code",
   "execution_count": null,
   "metadata": {},
   "outputs": [],
   "source": [
    "ilias_username = None # TODO\n",
    "A = np.loadtxt(f'MatchedPoints/Matched_Points_{ilias_username}.txt')"
   ]
  },
  {
   "cell_type": "code",
   "execution_count": null,
   "metadata": {},
   "outputs": [],
   "source": [
    "M, N = A.shape\n",
    "leftPoints = np.concatenate((A[:,2:4].T, np.ones((1, M))), axis=0)\n",
    "rightPoints = np.concatenate((A[:,0:2].T, np.ones((1, M))), axis=0)"
   ]
  },
  {
   "cell_type": "markdown",
   "metadata": {},
   "source": [
    "### Calibration matrix and focal length from the given file"
   ]
  },
  {
   "cell_type": "code",
   "execution_count": null,
   "metadata": {},
   "outputs": [],
   "source": [
    "fl = 4\n",
    "K = np.array([\n",
    "    [-83.33333, 0.00000, 250.00000],\n",
    "    [0.00000, -83.33333, 250.00000],\n",
    "    [0.00000, 0.00000,   1.00000],\n",
    "])\n",
    "\n",
    "I = K.copy()\n",
    "\n",
    "I[0,0] *= fl\n",
    "I[1,1] *= fl"
   ]
  },
  {
   "cell_type": "markdown",
   "metadata": {},
   "source": [
    "### Estimate Essential matrix E from F with RANSAC"
   ]
  },
  {
   "cell_type": "markdown",
   "metadata": {},
   "source": [
    "The 8-point algorithm assumes that all entries are independent from one another.\n",
    "Matrix E has 9 unknown entries but one can be derived from the other 8.\n",
    "For 'n' points is possible to write an homogeneous system of n equations \n",
    "--> in this case to derive non trivial solutions for QE=0 -->(x'^T) * E * x=0 (Q same role as A for F)\n",
    "I need at least 8 point correspondences, each one providing one independent equation\n",
    "--> If I know the calibration matrices of the two cameras, I can estimate the essential matrix: E = K2^T*F*K1, inverse approach where:\n",
    "- K1, internal camera calibration matrix of camera 1 --> x1_n=K^-1 * x1\n",
    "- K2, internal camera calibration matrix of camera 2\n"
   ]
  },
  {
   "cell_type": "code",
   "execution_count": null,
   "metadata": {},
   "outputs": [],
   "source": [
    "good_threshold = 1e-3 # or 0.1 # TODO FOR EXAMPLE\n",
    "F, inliers = ransac(leftPoints, rightPoints, good_threshold)  \n",
    "print('Num outliers', leftPoints.shape[1] - inliers.sum())\n",
    "assert np.linalg.matrix_rank(F) == 2\n",
    "print('Estimated fundamental matrix: ')\n",
    "print(F)\n",
    "\n",
    "# TODO: Estimate essential matrix E from F\n",
    "#K1 and K2 are the intrinsics of the two cameras\n",
    "#intrinsics = np.load('Intrinsic/and/extrinsic/parameters.rtf')#('../data/intrinsics.npz')\n",
    "#K1 = intrinsics['K1']\n",
    "#K2 = intrinsics['K2']\n",
    "K1 = x1_n^(-1) *x1\n",
    "K2 = x2_n^(-1) *x2\n",
    "\n",
    "E = get_essential_matrix(F, K1, K2)\n",
    "\n",
    "print('Estimated essential matrix: ')\n",
    "print(E)"
   ]
  },
  {
   "cell_type": "markdown",
   "metadata": {},
   "source": [
    "### Compute rotation and translation between views"
   ]
  },
  {
   "cell_type": "code",
   "execution_count": null,
   "metadata": {},
   "outputs": [],
   "source": [
    "# TODO: Compute rotation and translation between views. Complete decomposeE\n",
    "Il = np.linalg.solve(I, leftPoints)\n",
    "Ir = np.linalg.solve(I, rightPoints)\n",
    "\n",
    "Pl, Pr = decompose_essential_matrix(E, Il, Ir)\n",
    "\n",
    "print('Estimated translation: ')\n",
    "print(Pr[:,3])\n",
    "print('Estimated rotation: ')\n",
    "print(Pr[:,:3])"
   ]
  },
  {
   "cell_type": "markdown",
   "metadata": {},
   "source": [
    "### Estimate the 3D points"
   ]
  },
  {
   "cell_type": "code",
   "execution_count": null,
   "metadata": {
    "pycharm": {
     "name": "#%%\n"
    }
   },
   "outputs": [],
   "source": [
    "x3D = infer_3d(Il, Ir, Pl, Pr)\n",
    "ipv.quickscatter(x=x3D[0,:], y=x3D[1,:], z=x3D[2,:])"
   ]
  }
 ],
 "metadata": {
  "kernelspec": {
   "display_name": "Python 3.10.6 ('MIALab_personal')",
   "language": "python",
   "name": "python3"
  },
  "language_info": {
   "codemirror_mode": {
    "name": "ipython",
    "version": 3
   },
   "file_extension": ".py",
   "mimetype": "text/x-python",
   "name": "python",
   "nbconvert_exporter": "python",
   "pygments_lexer": "ipython3",
   "version": "3.10.6"
  },
  "vscode": {
   "interpreter": {
    "hash": "abbeabf548f88bfd2d892da4e9af38cbbe01afe39fcb89f587b9741e61271d99"
   }
  }
 },
 "nbformat": 4,
 "nbformat_minor": 4
}
